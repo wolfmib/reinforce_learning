{
 "cells": [
  {
   "cell_type": "markdown",
   "metadata": {},
   "source": [
    "### Install Package  😈\n",
    "---"
   ]
  },
  {
   "cell_type": "code",
   "execution_count": 42,
   "metadata": {},
   "outputs": [],
   "source": [
    "import numpy as np\n",
    "import gym\n",
    "import random"
   ]
  },
  {
   "cell_type": "markdown",
   "metadata": {},
   "source": [
    "### Créer la env 🛋\n",
    "---\n",
    "- Here we'll create the FrozenLake environment.\n",
    "- OpenAI Gym is a library composed of many environments that we can use to train our agents.\n",
    "- In our case we choose to use Frozen Lake."
   ]
  },
  {
   "cell_type": "code",
   "execution_count": 43,
   "metadata": {},
   "outputs": [],
   "source": [
    "env = gym.make(\"FrozenLake-v0\")"
   ]
  },
  {
   "cell_type": "markdown",
   "metadata": {},
   "source": [
    "### Créer la Q-Table 📜\n",
    "---\n",
    "- Now, we'll create our Q-table, to know how much rows (states) and columns (actions) we need, we need to calculate the action_size and the state_size\n",
    "- OpenAI Gym provides us a way to do that: env.action_space.n and env.observation_space.n\n"
   ]
  },
  {
   "cell_type": "code",
   "execution_count": 44,
   "metadata": {},
   "outputs": [
    {
     "name": "stdout",
     "output_type": "stream",
     "text": [
      "[[0. 0. 0. 0.]\n",
      " [0. 0. 0. 0.]\n",
      " [0. 0. 0. 0.]\n",
      " [0. 0. 0. 0.]\n",
      " [0. 0. 0. 0.]\n",
      " [0. 0. 0. 0.]\n",
      " [0. 0. 0. 0.]\n",
      " [0. 0. 0. 0.]\n",
      " [0. 0. 0. 0.]\n",
      " [0. 0. 0. 0.]\n",
      " [0. 0. 0. 0.]\n",
      " [0. 0. 0. 0.]\n",
      " [0. 0. 0. 0.]\n",
      " [0. 0. 0. 0.]\n",
      " [0. 0. 0. 0.]\n",
      " [0. 0. 0. 0.]]\n"
     ]
    }
   ],
   "source": [
    "# C'est cols\n",
    "action_size = env.action_space.n\n",
    "\n",
    "# C'est rows\n",
    "state_size = env.observation_space.n\n",
    "\n",
    "# Créer la Q-table:\n",
    "qtable = np.zeros((state_size, action_size))\n",
    "print(qtable)"
   ]
  },
  {
   "cell_type": "markdown",
   "metadata": {},
   "source": [
    "### Créer la parameters:\n",
    "---\n"
   ]
  },
  {
   "cell_type": "code",
   "execution_count": 45,
   "metadata": {},
   "outputs": [],
   "source": [
    "total_episodes = 20000        # Total episodes\n",
    "learning_rate = 0.8           # Learning rate\n",
    "max_steps = 99                # Max steps per episode\n",
    "gamma = 0.95                  # Discounting rate\n",
    "\n",
    "# Exploration parameters\n",
    "epsilon = 1.0                 # Exploration rate\n",
    "max_epsilon = 1.0             # Exploration probability at start\n",
    "min_epsilon = 0.01            # Minimum exploration probability \n",
    "decay_rate = 0.001             # Exponential decay rate for exploration prob"
   ]
  },
  {
   "cell_type": "markdown",
   "metadata": {},
   "source": [
    "### Créer la code de simulation:\n",
    "---\n",
    "\n",
    "<img src=\"image/01_g_learning_algorithm.png\"> \n",
    "<br>"
   ]
  },
  {
   "cell_type": "code",
   "execution_count": 52,
   "metadata": {},
   "outputs": [
    {
     "name": "stdout",
     "output_type": "stream",
     "text": [
      "Score average over time: 0.39213333333333333\n",
      "[[3.01761472e-01 9.33860053e-02 6.67167880e-02 9.64229354e-02]\n",
      " [1.72670875e-03 2.84671311e-03 3.19467470e-03 9.77669380e-02]\n",
      " [9.51787724e-03 1.02797602e-01 4.59375686e-03 2.92442004e-02]\n",
      " [8.05869129e-03 2.38979502e-03 5.11088320e-04 2.87209909e-02]\n",
      " [3.57377444e-01 4.03810701e-03 1.65507229e-03 1.23089050e-03]\n",
      " [0.00000000e+00 0.00000000e+00 0.00000000e+00 0.00000000e+00]\n",
      " [3.49607125e-07 1.27072759e-06 1.43632908e-03 4.29753813e-05]\n",
      " [0.00000000e+00 0.00000000e+00 0.00000000e+00 0.00000000e+00]\n",
      " [5.17790528e-02 6.33951267e-02 7.23005310e-02 4.97126631e-01]\n",
      " [2.56116906e-02 6.37137949e-01 1.62250338e-02 3.37630919e-02]\n",
      " [1.44058513e-01 8.80709516e-03 8.67646795e-03 7.06437298e-04]\n",
      " [0.00000000e+00 0.00000000e+00 0.00000000e+00 0.00000000e+00]\n",
      " [0.00000000e+00 0.00000000e+00 0.00000000e+00 0.00000000e+00]\n",
      " [3.27995039e-02 7.20602990e-02 2.89110683e-01 4.07920935e-01]\n",
      " [3.61878687e-01 9.38362214e-01 2.25678009e-01 1.67927844e-01]\n",
      " [0.00000000e+00 0.00000000e+00 0.00000000e+00 0.00000000e+00]]\n"
     ]
    }
   ],
   "source": [
    "# List of rewards\n",
    "rewards = []\n",
    "\n",
    "# 2 Loop tout episodes:\n",
    "for episode in range(total_episodes):\n",
    "    # Reset the environment\n",
    "    state = env.reset()\n",
    "    step = 0\n",
    "    game_over = False\n",
    "    total_rewards = 0\n",
    "    \n",
    "    for step in range(max_steps):\n",
    "        # On faire le random-number\n",
    "        exploration_exploitation_flag = random.uniform(0,1)\n",
    "        \n",
    "        # Si la flag >  epsilon, on faire la exploitation:\n",
    "        # Prendre la gros value pour cette state.\n",
    "        if exploration_exploitation_flag > epsilon:\n",
    "            action = np.argmax(qtable[state,:])\n",
    "        # Si la flag <  epsilon, on faire la exploration:\n",
    "        # Prendre la random-action\n",
    "        else:\n",
    "            action = env.action_space.sample()\n",
    "            \n",
    "        # Prendre la action, obtenir la prochain state (s), obetenir la reward (r)\n",
    "        new_state , reward, done, info = env.step(action)\n",
    "        \n",
    "        # Update Q(s,a) = Q(s,a) + lr [ R(s,a) + gamma * max Q(s',a') - Q(s,a) ]\n",
    "        qtable[state,action] = qtable[state, action] + learning_rate *(reward + gamma * np.max(qtable[new_state,:])-qtable[state,action])\n",
    "        \n",
    "        # [total_reward]: Mise à jour  \n",
    "        total_rewards += reward\n",
    "        state = new_state\n",
    "        \n",
    "        # Si game_over, on arrete:\n",
    "        if game_over == True:\n",
    "            break\n",
    "    \n",
    "    # réduire epsilon. (on a besoin de moin de epsilon, apres beaucoup de epsiodes)\n",
    "    epsilon = min_epsilon + (max_epsilon - min_epsilon)* np.exp(-decay_rate*episode)\n",
    "    rewards.append(total_rewards)\n",
    "\n",
    "print(\"Score average over time: \" + str(sum(rewards)/total_episodes))\n",
    "print(qtable)\n",
    "    \n",
    "    "
   ]
  },
  {
   "cell_type": "code",
   "execution_count": 56,
   "metadata": {},
   "outputs": [
    {
     "name": "stdout",
     "output_type": "stream",
     "text": [
      "\n",
      "\u001b[41mS\u001b[0mFFF\n",
      "FHFH\n",
      "FFFH\n",
      "HFFG\n"
     ]
    },
    {
     "data": {
      "text/plain": [
       "array([[0, 3, 1, 3],\n",
       "       [0, 0, 2, 0],\n",
       "       [3, 1, 0, 0],\n",
       "       [0, 3, 1, 0]])"
      ]
     },
     "execution_count": 56,
     "metadata": {},
     "output_type": "execute_result"
    }
   ],
   "source": [
    "# Afficher:\n",
    "# left: 0, down: 1, right: 2, up: 3\n",
    "env.reset()\n",
    "env.render()\n",
    "possible_action_in_each_postion = np.argmax(qtable,axis=1).reshape(4,4)\n",
    "possible_action_in_each_postion"
   ]
  },
  {
   "cell_type": "code",
   "execution_count": 57,
   "metadata": {},
   "outputs": [
    {
     "name": "stdout",
     "output_type": "stream",
     "text": [
      "---------------------------------------------------\n",
      "Dans la episonde [0]\n",
      "\n",
      "  (Down)\n",
      "SFFF\n",
      "FHFH\n",
      "FFFH\n",
      "HFF\u001b[41mG\u001b[0m\n",
      "Number of steps  26\n",
      "{'prob': 0.3333333333333333}\n",
      "---------------------------------------------------\n",
      "Dans la episonde [1]\n",
      "\n",
      "---------------------------------------------------\n",
      "Dans la episonde [2]\n",
      "\n",
      "  (Down)\n",
      "SFFF\n",
      "FHFH\n",
      "FFFH\n",
      "HFF\u001b[41mG\u001b[0m\n",
      "Number of steps  22\n",
      "{'prob': 0.3333333333333333}\n",
      "---------------------------------------------------\n",
      "Dans la episonde [3]\n",
      "\n",
      "  (Down)\n",
      "SFFF\n",
      "FHFH\n",
      "FFFH\n",
      "HFF\u001b[41mG\u001b[0m\n",
      "Number of steps  25\n",
      "{'prob': 0.3333333333333333}\n",
      "---------------------------------------------------\n",
      "Dans la episonde [4]\n",
      "\n",
      "  (Down)\n",
      "SFFF\n",
      "FHFH\n",
      "FFFH\n",
      "HFF\u001b[41mG\u001b[0m\n",
      "Number of steps  72\n",
      "{'prob': 0.3333333333333333}\n",
      "C'est fini....\n"
     ]
    }
   ],
   "source": [
    "env.reset()\n",
    "max_steps = 99\n",
    "for episode in range(5):\n",
    "    state     = env.reset()\n",
    "    step      = 0\n",
    "    game_over = False\n",
    "    msg  = \"---------------------------------------------------\\n\"\n",
    "    msg += \"Dans la episonde [%d]\\n\"%episode\n",
    "    print(msg)\n",
    "    \n",
    "    for step in range(max_steps):\n",
    "        \n",
    "        action = np.argmax(qtable[state,:])\n",
    "        \n",
    "        new_state, reward, game_over, info = env.step(action)\n",
    "        \n",
    "        \n",
    "        if game_over:\n",
    "            env.render()   \n",
    "            print(\"Number of steps \",step)\n",
    "            print(info)\n",
    "            break\n",
    "        \n",
    "        state = new_state\n",
    "    \n",
    "    \n",
    "print(\"C'est fini....\")\n",
    "env.close()"
   ]
  },
  {
   "cell_type": "markdown",
   "metadata": {},
   "source": [
    "### JA_Test\n",
    "---"
   ]
  },
  {
   "cell_type": "code",
   "execution_count": 17,
   "metadata": {},
   "outputs": [
    {
     "data": {
      "text/plain": [
       "array([[0., 0., 0., 0.],\n",
       "       [0., 0., 0., 0.],\n",
       "       [0., 0., 0., 0.],\n",
       "       [0., 0., 0., 0.],\n",
       "       [0., 0., 0., 0.],\n",
       "       [0., 0., 0., 0.],\n",
       "       [0., 0., 0., 0.],\n",
       "       [0., 0., 0., 0.],\n",
       "       [0., 0., 0., 0.],\n",
       "       [0., 0., 0., 0.]])"
      ]
     },
     "execution_count": 17,
     "metadata": {},
     "output_type": "execute_result"
    }
   ],
   "source": [
    "rows_size = int(10) # states\n",
    "cols_size = int(4)  # actions\n",
    "\n",
    "check_my_np = np.zeros((rows_size,cols_size))\n",
    "check_my_np"
   ]
  },
  {
   "cell_type": "code",
   "execution_count": 24,
   "metadata": {},
   "outputs": [
    {
     "data": {
      "text/plain": [
       "0.0"
      ]
     },
     "execution_count": 24,
     "metadata": {},
     "output_type": "execute_result"
    }
   ],
   "source": [
    "check_my_np[9][3]"
   ]
  },
  {
   "cell_type": "markdown",
   "metadata": {},
   "source": [
    "#### np.argmax Chercher la max action dans la Q-Table:\n",
    "---"
   ]
  },
  {
   "cell_type": "code",
   "execution_count": 8,
   "metadata": {},
   "outputs": [
    {
     "data": {
      "text/plain": [
       "array([[0., 0., 0., 0.],\n",
       "       [0., 0., 0., 0.],\n",
       "       [0., 0., 0., 0.],\n",
       "       [0., 0., 0., 0.],\n",
       "       [0., 0., 0., 0.],\n",
       "       [0., 0., 0., 0.],\n",
       "       [0., 0., 0., 0.],\n",
       "       [0., 0., 0., 0.],\n",
       "       [0., 0., 0., 0.],\n",
       "       [0., 0., 0., 0.]])"
      ]
     },
     "execution_count": 8,
     "metadata": {},
     "output_type": "execute_result"
    }
   ],
   "source": [
    "state_size  = 10\n",
    "action_size = 4    # (haut, bas, gauche, droite)\n",
    "qtable     = np.zeros((state_size,action_size))\n",
    "qtable"
   ]
  },
  {
   "cell_type": "code",
   "execution_count": 9,
   "metadata": {},
   "outputs": [
    {
     "data": {
      "text/plain": [
       "array([[0., 0., 0., 0.],\n",
       "       [0., 1., 2., 3.],\n",
       "       [0., 0., 0., 0.],\n",
       "       [0., 0., 0., 0.],\n",
       "       [0., 0., 0., 0.],\n",
       "       [0., 0., 0., 0.],\n",
       "       [0., 0., 0., 0.],\n",
       "       [0., 0., 0., 0.],\n",
       "       [0., 0., 0., 0.],\n",
       "       [0., 0., 0., 0.]])"
      ]
     },
     "execution_count": 9,
     "metadata": {},
     "output_type": "execute_result"
    }
   ],
   "source": [
    "# update state[1]\n",
    "for col in range(4):\n",
    "    qtable[1,col] = col\n",
    "qtable"
   ]
  },
  {
   "cell_type": "code",
   "execution_count": 17,
   "metadata": {},
   "outputs": [
    {
     "data": {
      "text/plain": [
       "array([[ 0. ,  0. ,  0. ,  0. ],\n",
       "       [ 0. ,  1. ,  2. ,  3. ],\n",
       "       [ 3.1,  2.7,  3.3,  0.9],\n",
       "       [ 2.1,  2.1,  2.1,  2.1],\n",
       "       [ 0. ,  0. ,  0. ,  0. ],\n",
       "       [ 0. ,  0. ,  0. ,  0. ],\n",
       "       [ 0. ,  0. ,  0. ,  0. ],\n",
       "       [ 0. ,  0. ,  0. ,  0. ],\n",
       "       [ 0. ,  0. ,  0. ,  0. ],\n",
       "       [55. , 55. , 55. , 55. ]])"
      ]
     },
     "execution_count": 17,
     "metadata": {},
     "output_type": "execute_result"
    }
   ],
   "source": [
    "qtable[9,:] = 55\n",
    "qtable[2][0]=3.1\n",
    "qtable[2][1]=2.7\n",
    "qtable[2][2]=3.3\n",
    "qtable[2][3]=0.9\n",
    "qtable[3][:] = 2.1\n",
    "qtable"
   ]
  },
  {
   "cell_type": "code",
   "execution_count": 18,
   "metadata": {},
   "outputs": [
    {
     "data": {
      "text/plain": [
       "3"
      ]
     },
     "execution_count": 18,
     "metadata": {},
     "output_type": "execute_result"
    }
   ],
   "source": [
    "state = 1\n",
    "get_max_col = np.argmax(qtable[1,:])\n",
    "get_max_col"
   ]
  },
  {
   "cell_type": "code",
   "execution_count": 19,
   "metadata": {},
   "outputs": [
    {
     "data": {
      "text/plain": [
       "2"
      ]
     },
     "execution_count": 19,
     "metadata": {},
     "output_type": "execute_result"
    }
   ],
   "source": [
    "state = 2\n",
    "get_max_col = np.argmax(qtable[state,:])\n",
    "get_max_col"
   ]
  },
  {
   "cell_type": "code",
   "execution_count": 20,
   "metadata": {},
   "outputs": [
    {
     "data": {
      "text/plain": [
       "array([[ 0. ,  0. ,  0. ,  0. ],\n",
       "       [ 0. ,  1. ,  2. ,  3. ],\n",
       "       [ 3.1,  2.7,  3.3,  0.9],\n",
       "       [ 2.1,  2.1,  2.1,  2.1],\n",
       "       [ 0. ,  0. ,  0. ,  0. ],\n",
       "       [ 0. ,  0. ,  0. ,  0. ],\n",
       "       [ 0. ,  0. ,  0. ,  0. ],\n",
       "       [ 0. ,  0. ,  0. ,  0. ],\n",
       "       [ 0. ,  0. ,  0. ,  0. ],\n",
       "       [55. , 55. , 55. , 55. ]])"
      ]
     },
     "execution_count": 20,
     "metadata": {},
     "output_type": "execute_result"
    }
   ],
   "source": [
    "qtable"
   ]
  },
  {
   "cell_type": "code",
   "execution_count": 21,
   "metadata": {},
   "outputs": [
    {
     "data": {
      "text/plain": [
       "0.9"
      ]
     },
     "execution_count": 21,
     "metadata": {},
     "output_type": "execute_result"
    }
   ],
   "source": [
    "qtable[2,3]  # Q(state,action)"
   ]
  },
  {
   "cell_type": "code",
   "execution_count": 22,
   "metadata": {},
   "outputs": [
    {
     "data": {
      "text/plain": [
       "array([2.1, 2.1, 2.1, 2.1])"
      ]
     },
     "execution_count": 22,
     "metadata": {},
     "output_type": "execute_result"
    }
   ],
   "source": [
    "qtable[3,:]  #Q (new_stat, all)"
   ]
  },
  {
   "cell_type": "code",
   "execution_count": 24,
   "metadata": {},
   "outputs": [
    {
     "data": {
      "text/plain": [
       "array([1.2, 1.2, 1.2, 1.2])"
      ]
     },
     "execution_count": 24,
     "metadata": {},
     "output_type": "execute_result"
    }
   ],
   "source": [
    "what_is_this = qtable[3,:] - qtable[2,3]\n",
    "what_is_this"
   ]
  },
  {
   "cell_type": "code",
   "execution_count": 23,
   "metadata": {},
   "outputs": [
    {
     "data": {
      "text/plain": [
       "1.2000000000000002"
      ]
     },
     "execution_count": 23,
     "metadata": {},
     "output_type": "execute_result"
    }
   ],
   "source": [
    "value = np.max(qtable[3,:] - qtable[2,3])\n",
    "value"
   ]
  },
  {
   "cell_type": "code",
   "execution_count": null,
   "metadata": {},
   "outputs": [],
   "source": []
  }
 ],
 "metadata": {
  "kernelspec": {
   "display_name": "Python 3",
   "language": "python",
   "name": "python3"
  },
  "language_info": {
   "codemirror_mode": {
    "name": "ipython",
    "version": 3
   },
   "file_extension": ".py",
   "mimetype": "text/x-python",
   "name": "python",
   "nbconvert_exporter": "python",
   "pygments_lexer": "ipython3",
   "version": "3.6.7"
  }
 },
 "nbformat": 4,
 "nbformat_minor": 2
}
